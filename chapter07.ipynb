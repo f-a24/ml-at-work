{
 "cells": [
  {
   "cell_type": "markdown",
   "source": [
    "# 7章 効果検証：機械学習にもとづいた施策の成果を判断する"
   ],
   "metadata": {}
  },
  {
   "cell_type": "code",
   "execution_count": null,
   "source": [],
   "outputs": [],
   "metadata": {}
  }
 ],
 "metadata": {
  "orig_nbformat": 4,
  "language_info": {
   "name": "python"
  }
 },
 "nbformat": 4,
 "nbformat_minor": 2
}