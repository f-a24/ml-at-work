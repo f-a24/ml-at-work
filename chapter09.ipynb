{
 "cells": [
  {
   "cell_type": "markdown",
   "metadata": {},
   "source": [
    "# 9章 Kickstarterの分析、機械学習を使わないという選択肢"
   ]
  },
  {
   "cell_type": "markdown",
   "metadata": {},
   "source": [
    "## 9.2 Kickstarterのクローラーを作成する"
   ]
  },
  {
   "cell_type": "code",
   "execution_count": null,
   "metadata": {},
   "outputs": [],
   "source": [
    "import urllib.request\n",
    "import json\n",
    "import os\n",
    "import time\n",
    "\n",
    "os.makedirs('result', exist_ok=True)\n",
    "\n",
    "search_term = ''\n",
    "sort_key = 'newest'\n",
    "category_list = [16, 331, 332, 333, 334, 335, 336, 337, 52, 362, 338, 51, 339, 340, 341, 342] # technology category\n",
    "base_query = 'https://www.kickstarter.com/projects/search.json?term={term}&category_id={category_id}&page={page_id}&sort={sort}'\n",
    "headers = {\n",
    "\"User-Agent\": \"Mozilla/5.0 (Windows NT 10.0; Win64; x64; rv:96.0) Gecko/20100101 Firefox/96.0\"\n",
    "}\n",
    "\n",
    "for category_id in category_list:\n",
    "    project_count = 0\n",
    "    for page_id in range(1, 201):\n",
    "        try:\n",
    "            query = base_query.format(term=search_term, category_id=category_id, page_id=page_id, sort=sort_key)\n",
    "            request = urllib.request.Request(query, headers=headers)\n",
    "            response_json = json.loads(urllib.request.urlopen(request).read().decode(\"utf-8\"))\n",
    "        except print(0):\n",
    "            break\n",
    "\n",
    "        if len(response_json['projects']) == 0:\n",
    "            break\n",
    "\n",
    "        project_count += len(response_json['projects'])\n",
    "        total_hits = response_json['total_hits']\n",
    "\n",
    "        print(category_id, 'progress', project_count, '/', total_hits, round(float(project_count) / total_hits * 100, 2), '%')\n",
    "\n",
    "        for project in response_json['projects']:\n",
    "            filepath = 'result/{}.json'.format(project['id'])\n",
    "            fp = open(filepath, 'w')\n",
    "            fp.write(json.dumps(project, sort_keys=True, indent=2))\n",
    "            fp.close()\n",
    "        \n",
    "        time.sleep(1)"
   ]
  },
  {
   "cell_type": "markdown",
   "metadata": {},
   "source": [
    "## 9.3 JSONデータをCSVに変換する"
   ]
  },
  {
   "cell_type": "code",
   "execution_count": null,
   "metadata": {},
   "outputs": [],
   "source": [
    "import glob\n",
    "import pandas\n",
    "import pandas.io.json\n",
    "\n",
    "project_list = []\n",
    "\n",
    "# globでresultフォルダにあるファイルを操作して読み込み\n",
    "for filename in glob.glob(\"result/*.json\"):\n",
    "    project = json.loads(open(filename).read())\n",
    "    project_list.append(project)\n",
    "\n",
    "# json_normalizeを使ってDataFrameに変換する\n",
    "df = pandas.io.json.json_normalize(project_list)\n",
    "\n",
    "# 末尾が\"_at\"で終わるunixtimeのカラムをdatatimeに変換する\n",
    "datetime_columns = filter(lambda a: a[-3:] == \"_at\", df.columns)\n",
    "for column in datetime_columns:\n",
    "    df[column] = pandas.to_datetime(df[column], unit='s')\n",
    "\n",
    "# DataFrameからCSV形式のstrに変換する\n",
    "csv_data = df.to_csv()\n",
    "\n",
    "# WindowsのExcelに読み込ませるので、CP932にする\n",
    "csv_data = csv_data.encode(\"cp932\", \"ignore\")\n",
    "\n",
    "# 結果を書き込む\n",
    "fp = open(\"kickstarter_result.csv\", \"wb\")\n",
    "fp.write(csv_data)\n",
    "fp.close()"
   ]
  }
 ],
 "metadata": {
  "interpreter": {
   "hash": "96eb50e1d44aed467dc8f759cb08c32fbfa9babcf79c554e2d0e5feb04653a10"
  },
  "kernelspec": {
   "display_name": "Python 3.8.8 64-bit ('base': conda)",
   "language": "python",
   "name": "python3"
  },
  "language_info": {
   "codemirror_mode": {
    "name": "ipython",
    "version": 3
   },
   "file_extension": ".py",
   "mimetype": "text/x-python",
   "name": "python",
   "nbconvert_exporter": "python",
   "pygments_lexer": "ipython3",
   "version": "3.8.8"
  },
  "orig_nbformat": 4
 },
 "nbformat": 4,
 "nbformat_minor": 2
}
